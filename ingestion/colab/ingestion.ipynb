{
  "cells": [
    {
      "cell_type": "markdown",
      "metadata": {
        "id": "w8CD1UdFmhuZ"
      },
      "source": [
        "**INGESTION STEP**: Download podcast episodes audio"
      ]
    },
    {
      "cell_type": "code",
      "execution_count": null,
      "metadata": {
        "id": "2qtjjO6imeek"
      },
      "outputs": [],
      "source": [
        "!pip install youtube-search-python yt-dlp openai-whisper"
      ]
    },
    {
      "cell_type": "code",
      "execution_count": 2,
      "metadata": {
        "id": "8fQE-1-Fm_df"
      },
      "outputs": [],
      "source": [
        "BASE_YOUTUBE_PLAYLIST_URL = \"https://www.youtube.com/playlist?list=\"\n",
        "playlist_id = \"PLrYeaDpClt33OD3orEdZ2GUBqG03z5a2U\""
      ]
    },
    {
      "cell_type": "code",
      "execution_count": 3,
      "metadata": {
        "id": "s8mVbjK7nRTp"
      },
      "outputs": [],
      "source": [
        "from youtubesearchpython import *\n",
        "from typing import List\n",
        "import yt_dlp\n",
        "import re\n",
        "from tempfile import NamedTemporaryFile\n",
        "import whisper\n",
        "import csv\n",
        "import shutil\n",
        "import os\n",
        "from typing import List\n",
        "import json"
      ]
    },
    {
      "cell_type": "code",
      "execution_count": 4,
      "metadata": {
        "id": "u88_alQNnXOB"
      },
      "outputs": [],
      "source": [
        "def getNewEpisodes(playlist_id: str, last_episode_number: int) -> List:\n",
        "    playlist = Playlist(f'{BASE_YOUTUBE_PLAYLIST_URL}{playlist_id}')\n",
        "    while playlist.hasMoreVideos:\n",
        "        print('Getting more videos...')\n",
        "        playlist.getNextVideos()\n",
        "        print(f'Videos Retrieved: {len(playlist.videos)}')\n",
        "    \n",
        "    print(\"Total number of videos: \", len(playlist.videos))\n",
        "\n",
        "    # filter out videos that have already been processed\n",
        "    new_videos = [video for video in playlist.videos if int(re.search(r'\\d+', video.get('title')).group().replace(\" \", \"\")) > int(last_episode_number)]\n",
        "\n",
        "    return new_videos\n",
        "def save_audio(ep_link: str, ep_number: int):\n",
        "    ydl_opts = {\n",
        "        'format': 'm4a/bestaudio/best',\n",
        "        'outtmpl': 'audio/%s.m4a'%str(ep_number),\n",
        "        'noplaylist': True,\n",
        "        'postprocessors': [{  \n",
        "            'key': 'FFmpegExtractAudio',\n",
        "            'preferredcodec': 'm4a',\n",
        "        }]}\n",
        "    with yt_dlp.YoutubeDL(ydl_opts) as ydl:\n",
        "        result = ydl.download(ep_link)\n",
        "    return result\n",
        "def get_audio(videos: List):\n",
        "    new_episodes = []\n",
        "    for video in videos:\n",
        "        try:\n",
        "            ep_number = re.search(r'\\d+', video.get('title')).group().replace(\" \", \"\")\n",
        "            result = save_audio(video.get('link'), ep_number)\n",
        "            if(result != 0):\n",
        "                print(\"Error downloading audio for episode number:\", ep_number)\n",
        "                continue\n",
        "            video_location = \"audio/%s.m4a\"%str(ep_number)\n",
        "            video_title = video.get('title')\n",
        "            video_url = video.get('link')\n",
        "            video_thumbnail = video.get('thumbnails')[0].get('url')\n",
        "            new_episode = {\"episodeNumber\": ep_number, \"title\": video_title, \"url\": video_url, \n",
        "                        \"thumbnail\": video_thumbnail, \"audio\": video_location, \"transcription\": \"NA\", \n",
        "                        \"transcribed\": False, \"processed\": False}\n",
        "            new_episodes.append(new_episode)\n",
        "        except Exception as e:\n",
        "            print(\"Error downloading audio for episode number:\", video.get('title'), e)\n",
        "    return new_episodes\n",
        "def save_new_episodes(new_episodes: List, existing_episodes: List):\n",
        "    with open('episodes.json', 'w') as f:\n",
        "        f.write(json.dumps(existing_episodes + new_episodes))"
      ]
    },
    {
      "cell_type": "markdown",
      "source": [
        "Download all episodes: Do \n",
        "\n",
        "```\n",
        "get_audio(episodes[:1])\n",
        "```\n",
        "if you want to limit the number of episodes to download for testing\n"
      ],
      "metadata": {
        "id": "8ua4MbrZDbpc"
      }
    },
    {
      "cell_type": "code",
      "execution_count": 5,
      "metadata": {
        "id": "twhKCRiKnuVb"
      },
      "outputs": [],
      "source": [
        "\"\"\"\n",
        "This function is the entry point to start downloading youtube episodes and saving the audio\n",
        "\"\"\"\n",
        "def start_audio_download():\n",
        "  existing_episodes = []\n",
        "  try:\n",
        "      with open('episodes.json', 'r') as f:\n",
        "          existing_episodes = json.load(f)\n",
        "          last_episode = existing_episodes[-1]\n",
        "          last_episode_number = int(last_episode.get(\"episodeNumber\"))\n",
        "  except Exception as e:\n",
        "      print(\"Exception when opening file\", e)\n",
        "      last_episode_number = 0\n",
        "  episodes: List = getNewEpisodes(playlist_id, last_episode_number)\n",
        "  episodes.reverse()\n",
        "  new_episodes = get_audio(episodes)\n",
        "  save_new_episodes(new_episodes, existing_episodes)"
      ]
    },
    {
      "cell_type": "markdown",
      "metadata": {
        "id": "Gd6l1binpzBc"
      },
      "source": [
        "INGESTION STEP: Audio transcription"
      ]
    },
    {
      "cell_type": "markdown",
      "metadata": {
        "id": "iVN2bnwCcrmZ"
      },
      "source": [
        "Run whisper "
      ]
    },
    {
      "cell_type": "code",
      "execution_count": 6,
      "metadata": {
        "id": "jZY--kOhqIZg"
      },
      "outputs": [],
      "source": [
        "\"\"\"\n",
        "This function runs whisper model for the audio file sent in the path argument\n",
        "\"\"\"\n",
        "def transcribe_audio(path: str):\n",
        "    model = whisper.load_model(\"small\")\n",
        "    result = model.transcribe(path)\n",
        "    return result"
      ]
    },
    {
      "cell_type": "code",
      "execution_count": 7,
      "metadata": {
        "id": "qfcAgEcLc2f_"
      },
      "outputs": [],
      "source": [
        "def format_transcription(transcription: str):\n",
        "    formatted_segments: List = []\n",
        "    for segment in transcription['segments']:\n",
        "        formatted_segment = {'start': segment['start'], 'end': segment['end'], 'text': segment['text']}\n",
        "        formatted_segments.append(formatted_segment)\n",
        "    return formatted_segments\n",
        "def save_transcription(transcription: List, filename: str, directory: str = \"transcriptions\"):\n",
        "  if not os.path.exists(directory):\n",
        "      os.makedirs(directory)\n",
        "  with open(f'{directory}/{filename}', 'w') as f:\n",
        "      f.write(json.dumps(transcription))\n",
        "  print(\"Transcription saved\")\n",
        "def save_updated_episodes(episodes: List, filename: str = \"episodes.json\"):\n",
        "    with open(filename, 'w') as f:\n",
        "        f.write(json.dumps(episodes))\n",
        "    print(\"Updated episodes saved\")\n",
        "def save_transcription_gdrive(transcription, filename, directory):\n",
        "  with open(f\"/content/gdrive/MyDrive/{directory}/{filename}\", \"w\") as f:\n",
        "    f.write(json.dumps(transcription))\n",
        "def save_json_gdrive(directory: str, episodes: list):\n",
        "  with open(f\"/content/gdrive/MyDrive/{directory}/episodes.json\", \"w\") as f:\n",
        "    f.write(json.dumps(episodes))"
      ]
    },
    {
      "cell_type": "code",
      "execution_count": 8,
      "metadata": {
        "colab": {
          "base_uri": "https://localhost:8080/"
        },
        "id": "CJZ9V65zp9d0",
        "outputId": "92d32acf-33e6-45ec-a175-6801f138a350"
      },
      "outputs": [
        {
          "output_type": "stream",
          "name": "stdout",
          "text": [
            "Mounted at /content/gdrive\n"
          ]
        }
      ],
      "source": [
        "\"\"\"\n",
        "Mount google drive in \"/content/gdrive\" directory to save the transcribed episodes\n",
        "\"\"\"\n",
        "from google.colab import drive\n",
        "drive.mount('/content/gdrive')"
      ]
    },
    {
      "cell_type": "code",
      "execution_count": 9,
      "metadata": {
        "id": "pcut4rWTqLyj"
      },
      "outputs": [],
      "source": [
        "\"\"\"\n",
        "This function is the entry point to transcribe the audio downloaded in the previous step\n",
        "It will get the location of the audio files from episodes.json file\n",
        "\"\"\"\n",
        "def start_audio_transcription():\n",
        "  print(\"Starting\")\n",
        "  directory = \"transcriptions\"\n",
        "  gdrive_directory = \"transcriptions\"\n",
        "  with open('episodes.json', 'r') as f:\n",
        "    episodes = json.load(f)\n",
        "    if(len(episodes) == 0):\n",
        "        print(\"No episodes to transcribe\")\n",
        "        pass\n",
        "    for episode in episodes:\n",
        "      if episode['processed'] == True or episode['transcribed'] == True:\n",
        "        print(\"Episode already transcribed or processed\")\n",
        "        continue\n",
        "      audio_path = episode['audio']\n",
        "      filename = episode['title'].replace(\" \", \"_\") + \".json\"\n",
        "      transcription = transcribe_audio(audio_path)\n",
        "      formatted_transcription = format_transcription(transcription)\n",
        "      save_transcription(formatted_transcription, filename, directory)\n",
        "      episode['transcription'] = f'{directory}/{filename}'\n",
        "      episode['transcribed'] = True\n",
        "      save_json_gdrive(gdrive_directory, episodes)\n",
        "      save_transcription_gdrive(formatted_transcription, filename, gdrive_directory)\n",
        "      save_updated_episodes(episodes)"
      ]
    },
    {
      "cell_type": "code",
      "source": [
        "\"\"\"\n",
        "Start process\n",
        "Remember to upload the updated episodes.csv file from the repo if there are already processed episodes\n",
        "\"\"\"\n",
        "start_audio_download()\n",
        "start_audio_transcription()"
      ],
      "metadata": {
        "id": "8j5C0gfuXqG5"
      },
      "execution_count": null,
      "outputs": []
    }
  ],
  "metadata": {
    "accelerator": "GPU",
    "colab": {
      "provenance": []
    },
    "gpuClass": "standard",
    "kernelspec": {
      "display_name": "Python 3",
      "name": "python3"
    },
    "language_info": {
      "name": "python"
    }
  },
  "nbformat": 4,
  "nbformat_minor": 0
}